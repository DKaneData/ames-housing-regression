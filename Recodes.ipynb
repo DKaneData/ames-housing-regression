{
 "cells": [
  {
   "cell_type": "code",
   "execution_count": null,
   "id": "2b9c5616-fd06-4be3-b136-20aa4de61d30",
   "metadata": {},
   "outputs": [],
   "source": []
  },
  {
   "cell_type": "markdown",
   "id": "0e799d17-1c53-4850-900b-1bc0d78e879c",
   "metadata": {},
   "source": [
    "#### Creating a variable to calculate the age of the property both since built and remodeled"
   ]
  },
  {
   "cell_type": "code",
   "execution_count": null,
   "id": "b9aea9bc-3fbc-44e9-b991-29770c02e93d",
   "metadata": {},
   "outputs": [],
   "source": [
    "df['age_at_sale'] = df['yr_sold'] - df['year_built']\n",
    "df[['yr_sold', 'year_built', 'age_at_sale']].sort_values('age_at_sale')\n",
    "\n",
    "df[['year_built', 'year_remod/add', 'yr_sold']]\n",
    "df['age_since_remod'] = df['yr_sold'] - df['year_remod/add']\n",
    "df['age_since_remod'].value_counts().reset_index().sort_values('age_since_remod')\n",
    "\n",
    "df[['age_at_sale', 'age_since_remod']]\n"
   ]
  },
  {
   "cell_type": "markdown",
   "id": "f53d2a1c-f8d1-4c4d-a88b-84eb84f76d49",
   "metadata": {},
   "source": [
    "### Creating Finished Basement Square Feet (bsmnt_fin_sf) that takes the total basement square feet minus the unfinished basement square feet"
   ]
  },
  {
   "cell_type": "code",
   "execution_count": null,
   "id": "d38c2fe0-c8ae-47aa-b2ac-1855ad6cb45d",
   "metadata": {},
   "outputs": [],
   "source": [
    "df['bsmnt_fin_sf'] = df['total_bsmt_sf'] - df['bsmt_unf_sf']\n",
    "df[['total_bsmt_sf', 'bsmt_unf_sf', 'bsmnt_fin_sf']]"
   ]
  }
 ],
 "metadata": {
  "kernelspec": {
   "display_name": "Python 3 (ipykernel)",
   "language": "python",
   "name": "python3"
  },
  "language_info": {
   "codemirror_mode": {
    "name": "ipython",
    "version": 3
   },
   "file_extension": ".py",
   "mimetype": "text/x-python",
   "name": "python",
   "nbconvert_exporter": "python",
   "pygments_lexer": "ipython3",
   "version": "3.11.7"
  }
 },
 "nbformat": 4,
 "nbformat_minor": 5
}
