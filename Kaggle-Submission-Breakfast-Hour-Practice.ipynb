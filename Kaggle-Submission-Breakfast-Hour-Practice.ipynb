{
 "cells": [
  {
   "cell_type": "code",
   "execution_count": 1,
   "id": "eb1bc492-55ee-4da6-9858-f2c069a4e34f",
   "metadata": {},
   "outputs": [],
   "source": [
    "import pandas as pd\n",
    "\n",
    "from sklearn.linear_model import LinearRegression\n",
    "from sklearn.model_selection import train_test_split, cross_val_score"
   ]
  },
  {
   "cell_type": "code",
   "execution_count": null,
   "id": "2470d307-4ce1-4cc1-aa20-969ebc019333",
   "metadata": {},
   "outputs": [],
   "source": [
    "df - pd.read_csv(test_data)\n",
    "kaggle_data = pd.read_csv(train_data)"
   ]
  },
  {
   "cell_type": "code",
   "execution_count": null,
   "id": "bb022a69-534c-468b-b92a-5af703380203",
   "metadata": {},
   "outputs": [],
   "source": [
    "#Identifying columns in test data not in train\n",
    "[col for col in df.columns if col not in kaggle_data.columns]"
   ]
  },
  {
   "cell_type": "code",
   "execution_count": null,
   "id": "40a8b1df-93e8-4892-a09e-453dca93b144",
   "metadata": {},
   "outputs": [],
   "source": [
    "#Another way to check\n",
    "set(df.columns) - set(kaggle_data.columns)"
   ]
  },
  {
   "cell_type": "code",
   "execution_count": null,
   "id": "f8255622-77fe-4d32-86e7-ebb76941cae3",
   "metadata": {},
   "outputs": [],
   "source": []
  },
  {
   "cell_type": "markdown",
   "id": "e31db5e5-c7e7-4334-94ce-c028bba65687",
   "metadata": {},
   "source": [
    "### Baseline model"
   ]
  },
  {
   "cell_type": "code",
   "execution_count": null,
   "id": "70998554-4e5b-40fc-ac3c-c91a3d577f42",
   "metadata": {},
   "outputs": [],
   "source": [
    "df['SalePrice'].mean()"
   ]
  },
  {
   "cell_type": "code",
   "execution_count": null,
   "id": "55599e69-a48f-48ff-b57e-29e19cec4769",
   "metadata": {},
   "outputs": [],
   "source": [
    "#Median more robust to outliers\n",
    "df['SalePrice'].median()"
   ]
  },
  {
   "cell_type": "code",
   "execution_count": null,
   "id": "471cd377-ea99-45d6-81aa-5fe9ad95ebef",
   "metadata": {},
   "outputs": [],
   "source": []
  },
  {
   "cell_type": "markdown",
   "id": "f07742bc-de82-43ba-89c7-915bae60a96c",
   "metadata": {},
   "source": [
    "### Create SalePrice column in test data"
   ]
  },
  {
   "cell_type": "code",
   "execution_count": null,
   "id": "ea3422c8-c53d-4960-a555-75ad5ad89576",
   "metadata": {},
   "outputs": [],
   "source": [
    "kaggle_data['SalePrice'] = df['SalePrice'].mean()"
   ]
  },
  {
   "cell_type": "code",
   "execution_count": null,
   "id": "c10eff83-1b8d-41be-8bc6-c329d6a8d30a",
   "metadata": {},
   "outputs": [],
   "source": [
    "#check training data\n",
    "kaggle_data.head(2)\n"
   ]
  },
  {
   "cell_type": "code",
   "execution_count": null,
   "id": "a7081595-3a60-4473-b40f-12c96fcb2617",
   "metadata": {},
   "outputs": [],
   "source": []
  },
  {
   "cell_type": "markdown",
   "id": "ce0ad0f1-28ff-43cc-b11c-e7b877c0932a",
   "metadata": {},
   "source": [
    "### Submission format is only the ID & SalePrice"
   ]
  },
  {
   "cell_type": "code",
   "execution_count": null,
   "id": "d729528c-6baa-43ac-bb3d-89d2169ef9b7",
   "metadata": {},
   "outputs": [],
   "source": [
    "#Assign to variable submissions\n",
    "submission = kaggle_data[['Id', 'SalePrice']]\n",
    "submission.head(2)\n",
    "    #When I do this, it will create an index column"
   ]
  },
  {
   "cell_type": "code",
   "execution_count": null,
   "id": "cd242126-e77a-40c9-bc96-8b72f2cd4cd0",
   "metadata": {},
   "outputs": [],
   "source": [
    "#Setting the index so it's ID\n",
    "submission.set_index('Id', inplace = True)\n",
    "submission.head(2)"
   ]
  },
  {
   "cell_type": "code",
   "execution_count": null,
   "id": "97ce830e-a60d-42c9-a480-de8f76e59f31",
   "metadata": {},
   "outputs": [],
   "source": [
    "submission.to_csv()"
   ]
  },
  {
   "cell_type": "code",
   "execution_count": null,
   "id": "c82bcebc-32bd-4ba8-9370-13c946efa39b",
   "metadata": {},
   "outputs": [],
   "source": []
  },
  {
   "cell_type": "markdown",
   "id": "8713b727-3736-41a4-b9a0-396c8e38b036",
   "metadata": {},
   "source": [
    "### MLR model"
   ]
  },
  {
   "cell_type": "code",
   "execution_count": null,
   "id": "537b1afb-c809-43f4-8359-8123de939004",
   "metadata": {},
   "outputs": [],
   "source": [
    "pd.set_option('display.max_rows', 100)"
   ]
  },
  {
   "cell_type": "code",
   "execution_count": null,
   "id": "b6ce9f08-e19e-45a8-9338-16db1a3e7987",
   "metadata": {},
   "outputs": [],
   "source": [
    "df.isna().sum().sort_values(ascending = False)\n",
    "    #See there's a lot of null values"
   ]
  },
  {
   "cell_type": "code",
   "execution_count": null,
   "id": "6c20a394-08e3-4070-9683-1df8820e7705",
   "metadata": {},
   "outputs": [],
   "source": [
    "df.dropna(axis = 1)\n",
    "df.dropna(axis = 1).shape\n",
    "    #Change axis to 1 to drop columns"
   ]
  },
  {
   "cell_type": "code",
   "execution_count": null,
   "id": "cf3fc6cf-8f18-4360-a932-0e05f5552aca",
   "metadata": {},
   "outputs": [],
   "source": [
    "df._get_numeric_data()\n",
    "df._get_numeric_data().shape\n",
    "    #Will just get numeric data"
   ]
  },
  {
   "cell_type": "code",
   "execution_count": null,
   "id": "26afe7db-69b3-4fee-9ce7-5bed6874e208",
   "metadata": {},
   "outputs": [],
   "source": [
    "df = df.dropna(axis = 1)._get_numeric_data()\n",
    "df.shape"
   ]
  },
  {
   "cell_type": "code",
   "execution_count": null,
   "id": "93e4fc23-423a-4aa6-a3c6-113e16eab23a",
   "metadata": {},
   "outputs": [],
   "source": [
    "#Run correlation matrix\n",
    "df.corr()[['SalePrice']].sort_values('SalePrice', ascending = False)"
   ]
  },
  {
   "cell_type": "code",
   "execution_count": null,
   "id": "8916f743-108e-4946-adf4-7694eab01874",
   "metadata": {},
   "outputs": [],
   "source": []
  },
  {
   "cell_type": "code",
   "execution_count": null,
   "id": "b4233b65-675b-41d8-8cf7-db7bd574b005",
   "metadata": {},
   "outputs": [],
   "source": [
    "# Rename columns to be pythonic (no spaces, underscores, lower case), using list comprehension\n",
    "df.columns = [col.replace(' ', '_').lower() for col in df.columns]\n",
    "df.head"
   ]
  },
  {
   "cell_type": "markdown",
   "id": "602016b5-567c-43d6-86fe-3ddad048585c",
   "metadata": {},
   "source": [
    "### Create our model"
   ]
  },
  {
   "cell_type": "code",
   "execution_count": null,
   "id": "c7747c50-6d4c-4fff-b11b-6780fb37ae37",
   "metadata": {},
   "outputs": [],
   "source": [
    "features = ['fireplaces', 'first_flr_sf', 'gr_liv_area']\n",
    "\n",
    "X = df[features]\n",
    "y = df['saleprice']"
   ]
  },
  {
   "cell_type": "code",
   "execution_count": null,
   "id": "4db43a78-e40a-4ac8-9817-277d597c7785",
   "metadata": {},
   "outputs": [],
   "source": [
    "X_train, X_test, y_train, y_test = train_test_split(X, y,\n",
    "                                                    random_state = 22)"
   ]
  },
  {
   "cell_type": "code",
   "execution_count": null,
   "id": "bdc1a534-9b25-43b4-a842-3dbe6ea2f7dd",
   "metadata": {},
   "outputs": [],
   "source": [
    "lr = LinearRegression()\n",
    "\n",
    "lr.fit(X_train, y_train)\n",
    "print(cross_val_score(lr, X_train, y_train).mean() )\n",
    "lr.score(X_train, y_train), lr.score(X_test, y_test)"
   ]
  },
  {
   "cell_type": "code",
   "execution_count": null,
   "id": "de820fa5-715e-4f28-aa7c-51e4d90bee42",
   "metadata": {},
   "outputs": [],
   "source": [
    "### Scores coming out around .57\n",
    "#Has bias, but not overfit - since they're close together"
   ]
  },
  {
   "cell_type": "code",
   "execution_count": null,
   "id": "8e0b4fe4-b34f-4107-94c4-6d15e78e50ba",
   "metadata": {},
   "outputs": [],
   "source": []
  },
  {
   "cell_type": "markdown",
   "id": "b68dd7b3-2fd9-4d88-b86d-a9ffa33db104",
   "metadata": {},
   "source": [
    "### Now we need to generate predictions on the test data"
   ]
  },
  {
   "cell_type": "code",
   "execution_count": null,
   "id": "d748c12c-97dc-424e-a132-c956e3bbf07e",
   "metadata": {},
   "outputs": [],
   "source": [
    "#Will create error since renamed cols in train data, but not test data\n",
    "lr.predict(kaggle_data[[features])"
   ]
  },
  {
   "cell_type": "code",
   "execution_count": null,
   "id": "54a5a665-e76e-419c-bd30-7b69bd0b3cf9",
   "metadata": {},
   "outputs": [],
   "source": [
    "#Rename kaggle columns\n",
    "kaggle_data.columns = [col.replace(' ', '_').lower() for col in kaggle_data.columns]"
   ]
  },
  {
   "cell_type": "code",
   "execution_count": null,
   "id": "0854fcb6-dd3a-4168-988e-61c877e525f3",
   "metadata": {},
   "outputs": [],
   "source": [
    "predictions = lr.predict(kaggle_data[features])"
   ]
  },
  {
   "cell_type": "code",
   "execution_count": null,
   "id": "05ab05b3-2a75-4182-ab71-df64a975778e",
   "metadata": {},
   "outputs": [],
   "source": [
    "predictions[:5]"
   ]
  },
  {
   "cell_type": "code",
   "execution_count": null,
   "id": "0e628661-de28-476d-8c6a-036950466bc7",
   "metadata": {},
   "outputs": [],
   "source": [
    "#Replacing sale price data with predictions from model\n",
    "kaggle_data['saleprice'] = predictions"
   ]
  },
  {
   "cell_type": "code",
   "execution_count": null,
   "id": "bc6138d3-9825-4950-8f8c-25086ecead32",
   "metadata": {},
   "outputs": [],
   "source": [
    "#index = False will not add an index\n",
    "kaggel_data[['id', 'saleprice']].to_csv('3features.csv', index = False)"
   ]
  }
 ],
 "metadata": {
  "kernelspec": {
   "display_name": "Python 3 (ipykernel)",
   "language": "python",
   "name": "python3"
  },
  "language_info": {
   "codemirror_mode": {
    "name": "ipython",
    "version": 3
   },
   "file_extension": ".py",
   "mimetype": "text/x-python",
   "name": "python",
   "nbconvert_exporter": "python",
   "pygments_lexer": "ipython3",
   "version": "3.11.7"
  }
 },
 "nbformat": 4,
 "nbformat_minor": 5
}
